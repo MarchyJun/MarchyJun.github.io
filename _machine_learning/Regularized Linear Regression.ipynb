{
 "cells": [
  {
   "cell_type": "code",
   "execution_count": 1,
   "metadata": {},
   "outputs": [],
   "source": [
    "import pandas as pd\n",
    "import numpy as np\n",
    "import matplotlib.pyplot as plt\n",
    "import seaborn as sns\n",
    "from sklearn.preprocessing import StandardScaler\n",
    "from sklearn.pipeline import Pipeline\n",
    "from sklearn.linear_model import LinearRegression\n",
    "from sklearn.linear_model import Ridge\n",
    "from sklearn.linear_model import Lasso\n",
    "from sklearn.linear_model import ElasticNet\n",
    "from sklearn.model_selection import train_test_split\n",
    "from sklearn.model_selection import GridSearchCV\n",
    "from sklearn.metrics import mean_squared_error"
   ]
  },
  {
   "cell_type": "markdown",
   "metadata": {},
   "source": [
    "# 1. Data Preprocessing"
   ]
  },
  {
   "cell_type": "markdown",
   "metadata": {},
   "source": [
    "I simply preprocessed the data to use."
   ]
  },
  {
   "cell_type": "code",
   "execution_count": 3,
   "metadata": {},
   "outputs": [
    {
     "data": {
      "text/plain": [
       "((1460, 192), (1460, 1))"
      ]
     },
     "execution_count": 3,
     "metadata": {},
     "output_type": "execute_result"
    }
   ],
   "source": [
    "df = pd.read_csv('housing_train.csv')\n",
    "df = df.drop('Id', axis = 1)\n",
    "\n",
    "y = df['SalePrice'].values.reshape(-1,1)\n",
    "y = np.log(y+1)\n",
    "\n",
    "df = df.drop('SalePrice', axis = 1)\n",
    "df = df.dropna(axis = 1)\n",
    "\n",
    "X = pd.get_dummies(df, drop_first = True)\n",
    "\n",
    "X.shape, y.shape"
   ]
  },
  {
   "cell_type": "code",
   "execution_count": 4,
   "metadata": {},
   "outputs": [],
   "source": [
    "X_train, X_test, y_train, y_test = train_test_split(X, y, test_size=0.3, random_state=42)\n"
   ]
  },
  {
   "cell_type": "markdown",
   "metadata": {},
   "source": [
    "I set 70% of the total data as train data."
   ]
  },
  {
   "cell_type": "markdown",
   "metadata": {},
   "source": [
    "# 2. Multiple Linear Regression"
   ]
  },
  {
   "cell_type": "markdown",
   "metadata": {},
   "source": [
    "$ y_{i} = \\beta_{0} + \\beta_{1}x_{1i} + \\beta_{2}x_{2i} + \\dots + \\beta_{p-1}x_{p-1i} + \\epsilon_{i} $ where $ i \\in \\{1,2, ... , n\\}$,                 \n",
    "\n",
    "Let $ Y = \\begin{bmatrix} y_{1} \\\\ \\vdots \\\\ y_{n} \\end{bmatrix}, \\; \n",
    "      X = \\begin{bmatrix} 1 & x_{11} & \\dots & x_{p-1,1} \\\\\n",
    "                          \\vdots & \\vdots & \\vdots & \\vdots \\\\\n",
    "                          1 & x_{1n} & \\dots & x_{p-1,n}\\end{bmatrix}, \\; \n",
    "      \\beta = \\begin{bmatrix} \\beta_{0} \\\\ \\vdots \\\\ \\beta_{p-1} \\end{bmatrix}, \\;\n",
    "      \\epsilon = \\begin{bmatrix} \\epsilon_{1} \\\\ \\vdots \\\\ \\epsilon_{n} \\end{bmatrix}$ \n",
    "\n",
    "Then $ Y = X \\beta + \\epsilon $\n",
    "\n",
    "$\\hat{\\beta_{OLS}} = \\underset{\\beta}{\\arg\\min}(Y - X \\beta)^{T}(Y-X \\beta) \\overset{let}{=} \\underset{\\beta}{\\arg\\min}J_{OLS}(\\beta) $\n",
    "\n",
    "$\\frac{\\partial J_{OLS}\\,(\\beta \\,)}{\\partial \\beta} = -2X^{T}Y + 2X^{T}X\\beta = 0 \\rightarrow (X^{T}X)\\beta = X^{T}Y$\n",
    "\n",
    "if $ \\;(X^{T}X)^{-1} \\;$ is exist,  $\\; \\hat{\\beta_{OLS}} = (X^{T}X)^{-1}X^{T}Y $"
   ]
  },
  {
   "cell_type": "code",
   "execution_count": 5,
   "metadata": {},
   "outputs": [
    {
     "data": {
      "text/plain": [
       "LinearRegression(copy_X=True, fit_intercept=True, n_jobs=None, normalize=False)"
      ]
     },
     "execution_count": 5,
     "metadata": {},
     "output_type": "execute_result"
    }
   ],
   "source": [
    "lm = LinearRegression()\n",
    "lm.fit(X_train, y_train) "
   ]
  },
  {
   "cell_type": "markdown",
   "metadata": {},
   "source": [
    "By using lm.fit, we can train our linear model for x_train and y_train."
   ]
  },
  {
   "cell_type": "code",
   "execution_count": 6,
   "metadata": {},
   "outputs": [
    {
     "name": "stdout",
     "output_type": "stream",
     "text": [
      "Root Mean Squared Error: 0.18007519094273575\n"
     ]
    }
   ],
   "source": [
    "y_hat = lm.predict(X_test)\n",
    "\n",
    "rmse = np.sqrt(mean_squared_error(y_test, y_hat))\n",
    "print(\"Root Mean Squared Error: {}\".format(rmse))"
   ]
  },
  {
   "cell_type": "markdown",
   "metadata": {},
   "source": [
    "# 2. Linear Regression with Regularization"
   ]
  },
  {
   "cell_type": "markdown",
   "metadata": {},
   "source": [
    "### 2.1. Problem of OLS Estimator $\\hat{\\beta_{OLS}}$"
   ]
  },
  {
   "cell_type": "markdown",
   "metadata": {},
   "source": [
    "Under multiple linear regression, if there exist an inverse of $(X^{T}X)$, we can get $\\hat{\\beta_{OLS}} = (X^{T}X)^{-1}X^{T}Y $. This estimator has smallest variance among linear unbiased estimators. So, it is very good estimator and the model that use this estimator has no problem."
   ]
  },
  {
   "cell_type": "markdown",
   "metadata": {},
   "source": [
    "However, if $(X^{T}X)$ does not exist, the model that use $\\hat{\\beta_{OLS}}$ is too ustable because of very high variance, even though it has smallest variance among linear unbiased estimators. An unstable model means that $\\hat{\\beta}$ value is very different if the training data changes even in small. From another point of view, it means that our model is overfitted, so the model only can explain a trained data."
   ]
  },
  {
   "cell_type": "markdown",
   "metadata": {},
   "source": [
    "So, we will be able to build a better model if we use an estimator with very low variance, even if there are some bias "
   ]
  },
  {
   "cell_type": "markdown",
   "metadata": {},
   "source": [
    "### 2.2. Cause of Problem"
   ]
  },
  {
   "cell_type": "markdown",
   "metadata": {},
   "source": [
    "(case 1) $ X(n \\times p) \\;\\;where\\; n < p $, \n",
    "$\\; e.g. \\; X = \\begin{bmatrix} ㅁ & ㅁ & \\dots & \\dots & ㅁ \\\\ \n",
    "                      ㅁ & ㅁ & \\dots & \\dots & ㅁ \\\\ \n",
    "                      ㅁ & ㅁ & \\dots & \\dots & ㅁ \\end{bmatrix}$"
   ]
  },
  {
   "cell_type": "markdown",
   "metadata": {},
   "source": [
    "- $Full\\; rank$ of $X^{T}X \\,(p \\times p)$ is $p$. But, $rank(X^{T}X)$ = $rank(X)$ $\\le min(n,p) = n$, so $rank(X^{T}X) < full\\; rank\\; $.       \n",
    "That is, when $X$ has shape $n \\times p \\;\\;where\\; n < p$, $X^{T}X$ always becomes singular matrix, which means that it does not have inverse matrix."
   ]
  },
  {
   "cell_type": "markdown",
   "metadata": {},
   "source": [
    "(case 2) $ X(n \\times p) \\;\\;where\\; n > p $, \n",
    "$\\; e.g. \\; X = \\begin{bmatrix} ㅁ & ㅁ & ㅁ \\\\\n",
    "                                ㅁ & ㅁ & ㅁ \\\\\n",
    "                                \\vdots & \\vdots & \\vdots \\\\ \n",
    "                                \\vdots & \\vdots & \\vdots \\\\ \n",
    "                                ㅁ & ㅁ & ㅁ \\\\\n",
    "                                ㅁ & ㅁ & ㅁ \\\\ \\end{bmatrix}$\n"
   ]
  },
  {
   "cell_type": "markdown",
   "metadata": {},
   "source": [
    "- $Full\\; rank$ of $X^{T}X \\,(p \\times p)$ is $p$. Note that $rank(X^{T}X)$ = $rank(X)$ $\\le min(n,p) = p$. But, if there are $k$ linearly dependent columns in $X$, $rank(X^{T}X) = p-k < full\\; rank\\; $. That is, when $X$ has shape $n \\times p \\;\\;where\\; n > p$, $X^{T}X$ becomes singular matrix and does not have an inverse matrix if $X$ has linearly dependent columns."
   ]
  },
  {
   "cell_type": "markdown",
   "metadata": {},
   "source": [
    "# 3. Solutions"
   ]
  },
  {
   "cell_type": "markdown",
   "metadata": {},
   "source": [
    "We have showed that $X^{T}X$ becomes singular matrix because of linearly dependent columns. So, if we remove the linearly dependent columns of x, we can solve our problem."
   ]
  },
  {
   "cell_type": "markdown",
   "metadata": {},
   "source": [
    "### 3.1. Ridge Regression"
   ]
  },
  {
   "cell_type": "markdown",
   "metadata": {},
   "source": [
    "If we add a very small value to the diagonal of $X^{T}X$, we can remove linearly dependent columns. Adding a constraint of L2 norm to $\\beta$ in the process of finding $\\hat{\\beta}$ will change the cost function slightly. And this change has the effect of adding a small constant value to the diagonal of $X^{T}X$. So, we can solve the problem of not getting inverse and get $\\hat{\\beta}_{ridge}$. This model will have some bias, but its variance will be much smaller, resulting in a smaller MSE than the existing model."
   ]
  },
  {
   "cell_type": "markdown",
   "metadata": {},
   "source": [
    "![title](ridge.png)"
   ]
  },
  {
   "cell_type": "markdown",
   "metadata": {},
   "source": [
    "Let's look at this as a simple three-dimensional graph. Total cose $J_{Total}$ is sum of $J_{OLS}$ and $J_{Ridge}$. The $\\beta$ value that minimize $J_{Total}$ is where the two graphs meet. In this case, the larger the $\\lambda$ value, the slower the spreading speed of the graph. So, $J_{Total}$ also becomes function of $\\lambda$ and $\\beta$. By fixing one of the two values, we can find the best set of values that minimize $J_{Total}$."
   ]
  },
  {
   "cell_type": "markdown",
   "metadata": {},
   "source": [
    "![title](ridge_cost...png)"
   ]
  },
  {
   "cell_type": "code",
   "execution_count": 7,
   "metadata": {},
   "outputs": [],
   "source": [
    "ridge = Ridge()\n",
    "params = {'alpha': list(np.linspace(0.01,0.1,20))}"
   ]
  },
  {
   "cell_type": "markdown",
   "metadata": {},
   "source": [
    "To find a best value of $\\lambda$, we can assign params several lambda values to check."
   ]
  },
  {
   "cell_type": "code",
   "execution_count": 8,
   "metadata": {},
   "outputs": [
    {
     "data": {
      "text/plain": [
       "GridSearchCV(cv=5, error_score='raise-deprecating',\n",
       "             estimator=Ridge(alpha=1.0, copy_X=True, fit_intercept=True,\n",
       "                             max_iter=None, normalize=False, random_state=None,\n",
       "                             solver='auto', tol=0.001),\n",
       "             iid='warn', n_jobs=None,\n",
       "             param_grid={'alpha': [0.01, 0.01473684210526316,\n",
       "                                   0.019473684210526317, 0.024210526315789474,\n",
       "                                   0.02894736842105263, 0.03368421052631579,\n",
       "                                   0.03842105263157895, 0.04315789473684211,\n",
       "                                   0.04789473684210527, 0.052631578947368425,\n",
       "                                   0.05736842105263158, 0.06210526315789474,\n",
       "                                   0.0668421052631579, 0.07157894736842106,\n",
       "                                   0.07631578947368421, 0.08105263157894736,\n",
       "                                   0.08578947368421053, 0.09052631578947369,\n",
       "                                   0.09526315789473684, 0.1]},\n",
       "             pre_dispatch='2*n_jobs', refit=True, return_train_score=False,\n",
       "             scoring='neg_mean_squared_error', verbose=0)"
      ]
     },
     "execution_count": 8,
     "metadata": {},
     "output_type": "execute_result"
    }
   ],
   "source": [
    "clf_ridge = GridSearchCV(ridge, params, cv = 5, scoring = 'neg_mean_squared_error')\n",
    "clf_ridge.fit(X_train, y_train)"
   ]
  },
  {
   "cell_type": "markdown",
   "metadata": {},
   "source": [
    "By using GridSearchCV, we can find out the params value that maximizes the scoring."
   ]
  },
  {
   "cell_type": "code",
   "execution_count": 9,
   "metadata": {},
   "outputs": [
    {
     "data": {
      "text/plain": [
       "{'alpha': 0.1}"
      ]
     },
     "execution_count": 9,
     "metadata": {},
     "output_type": "execute_result"
    }
   ],
   "source": [
    "clf_ridge.best_params_"
   ]
  },
  {
   "cell_type": "markdown",
   "metadata": {},
   "source": [
    "When alpha = 0.1, we can have smallest mse among assigned params values."
   ]
  },
  {
   "cell_type": "code",
   "execution_count": 10,
   "metadata": {},
   "outputs": [
    {
     "name": "stdout",
     "output_type": "stream",
     "text": [
      "Root Mean Squared Error: 0.13498243569810092\n"
     ]
    }
   ],
   "source": [
    "y_hat_ridge = clf_ridge.predict(X_test)\n",
    "rmse = np.sqrt(mean_squared_error(y_test, y_hat_ridge))\n",
    "\n",
    "print(\"Root Mean Squared Error: {}\".format(rmse))"
   ]
  },
  {
   "cell_type": "markdown",
   "metadata": {},
   "source": [
    "### 3.2. Lasso Regression"
   ]
  },
  {
   "cell_type": "markdown",
   "metadata": {},
   "source": [
    "In Ridge regression, the problem of $\\hat{\\beta}$ volatility could be solved by giving $\\beta$ a L2 norm constraint. In Lasso regression, the problem of $\\hat{\\beta}$ volatility is solved by giving $\\beta$ a constraint of L1 norm. At this time, unlike L2 norm, L1 norm cannot be differentiated, so an optimization method called coordinate descent is used to obtain $\\hat{\\beta}$."
   ]
  },
  {
   "cell_type": "markdown",
   "metadata": {},
   "source": [
    "![title](ridge_lasso.png)"
   ]
  },
  {
   "cell_type": "markdown",
   "metadata": {},
   "source": [
    "Lasso regression is different with ridge regression only in that the graph is rhombic, and the rest is the same as ridge regression."
   ]
  },
  {
   "cell_type": "code",
   "execution_count": 11,
   "metadata": {},
   "outputs": [
    {
     "name": "stdout",
     "output_type": "stream",
     "text": [
      "Root Mean Squared Error: 0.14786902251458048\n"
     ]
    }
   ],
   "source": [
    "lasso = Lasso()\n",
    "params = {'alpha': list(np.linspace(0.01,0.1,20))}\n",
    "\n",
    "clf_lasso = GridSearchCV(lasso, params, cv = 5, scoring = 'neg_mean_squared_error')\n",
    "clf_lasso.fit(X_train, y_train)\n",
    "\n",
    "y_hat_lasso = clf_lasso.predict(X_test)\n",
    "rmse = np.sqrt(mean_squared_error(y_test, y_hat_lasso))\n",
    "\n",
    "print(\"Root Mean Squared Error: {}\".format(rmse))"
   ]
  },
  {
   "cell_type": "markdown",
   "metadata": {},
   "source": [
    "### 3.3. Ridge vs Lasso"
   ]
  },
  {
   "cell_type": "markdown",
   "metadata": {},
   "source": [
    "Both Ridge and Lasso solve the problem of $\\hat{\\beta}$ volatility by constraining $\\beta$. But, there is small difference between them: the L2 norm used in the ridge is in the shape of a circle, and the L1 norm used in the lasso is in the shape of a rhombus. Due to this difference in graph form, there are some differences in the characteristics of the $\\hat{\\beta}$ values in ridge and lasso regression."
   ]
  },
  {
   "cell_type": "markdown",
   "metadata": {},
   "source": [
    "![title](ridge_lasso2.png)"
   ]
  },
  {
   "cell_type": "markdown",
   "metadata": {},
   "source": [
    "Since the L2 norm used in the ridge regression is in the form of a circle, it is very unlikely that the point where $J_{Ridge}$ and $J_{OLS}$ meet will be on axis. Thus, while the $\\beta$ values are small, most are not zero."
   ]
  },
  {
   "cell_type": "markdown",
   "metadata": {},
   "source": [
    "In contrast, the L1 norm used in the lasso regression is in the form of a rhombus, it is very likely that the point where $J_{Lasso}$ and $J_{OLS}$ meet will be on axis. That is, this means that some of the $\\beta$ values will be zero. So, multiplying $\\beta$ and $X$ has the effect of deleting some of the variables in $X$ because of the betas that became zero."
   ]
  },
  {
   "cell_type": "code",
   "execution_count": 12,
   "metadata": {},
   "outputs": [],
   "source": [
    "ridge_001 = Ridge(alpha = 0.01)\n",
    "ridge_00001 = Ridge(alpha = 0.0001)\n",
    "\n",
    "lasso_001 = Lasso(alpha = 0.01)\n",
    "lasso_00001 = Lasso(alpha = 0.0001)"
   ]
  },
  {
   "cell_type": "code",
   "execution_count": 13,
   "metadata": {},
   "outputs": [],
   "source": [
    "color = ['blue','green']\n",
    "model_ridge = [ridge_001, ridge_00001]\n",
    "model_lasso = [lasso_001, lasso_00001]"
   ]
  },
  {
   "cell_type": "code",
   "execution_count": 14,
   "metadata": {},
   "outputs": [
    {
     "data": {
      "image/png": "[encoded data removed]",
      "text/plain": [
       "<Figure size 1080x360 with 2 Axes>"
      ]
     },
     "metadata": {
      "needs_background": "light"
     },
     "output_type": "display_data"
    }
   ],
   "source": [
    "plt.figure(figsize=(15,5))\n",
    "\n",
    "plt.subplot(1,2,1)\n",
    "for c, m in zip(color, model_ridge):\n",
    "    m.fit(X_train, y_train)\n",
    "    plt.plot(np.arange(X_train.shape[1]), m.coef_.reshape(-1), linestyle = 'none', marker = 'd', markersize = 5,alpha=0.5, color = c, label = 'alpha: {}'.format(m.alpha))\n",
    "\n",
    "plt.plot(np.arange(X_train.shape[1]), lm.coef_.reshape(-1), linestyle = 'none', marker = 'd', markersize = 5,alpha=0.3, color = 'brown', label = 'Lienar Regression')\n",
    "plt.title('Ridge')\n",
    "plt.xlabel('Coefficient Index')\n",
    "plt.ylabel('Coefficient')\n",
    "plt.legend()\n",
    "    \n",
    "plt.subplot(1,2,2)\n",
    "for c, m in zip(color, model_lasso):\n",
    "    m.fit(X_train, y_train)\n",
    "    plt.plot(np.arange(X_train.shape[1]), m.coef_.reshape(-1), linestyle = 'none', marker = 'd', markersize = 5,alpha=0.5, color = c, label = 'alpha: {}'.format(m.alpha))\n",
    "plt.plot(np.arange(X_train.shape[1]), lm.coef_.reshape(-1), linestyle = 'none', marker = 'd', markersize = 5,alpha=0.3, color = 'brown', label = 'Lienar Regression')\n",
    "plt.title('Lasso')\n",
    "plt.xlabel('Coefficient Index')\n",
    "plt.ylabel('Coefficient')\n",
    "plt.legend()\n",
    "\n",
    "plt.show()"
   ]
  },
  {
   "cell_type": "markdown",
   "metadata": {},
   "source": [
    "The coefficients of the Ridge model are close to zero, but most do not go to exactly zero. However, we can see that the coefficients of the Lasso model are mostly 0."
   ]
  },
  {
   "cell_type": "markdown",
   "metadata": {},
   "source": [
    "### 3.4. ElasticNet"
   ]
  },
  {
   "cell_type": "markdown",
   "metadata": {},
   "source": [
    "ElasticNet is a combination of ridge and lasso's L2 and L1 norm."
   ]
  },
  {
   "cell_type": "markdown",
   "metadata": {},
   "source": [
    "$\\hat{\\beta_{EN}} = \\underset{\\beta}{\\arg\\min}\\{ \\frac{1}{2}(Y-X\\beta)^{T}(Y-X\\beta) + \\lambda(\\alpha \\|\\beta\\|_{1} + \\frac{1-\\alpha}{2}\\|\\beta\\|^{2}) \\}$"
   ]
  },
  {
   "cell_type": "markdown",
   "metadata": {},
   "source": [
    "In python, we can use it by ElasticNet from sklearn.linear_model."
   ]
  },
  {
   "cell_type": "code",
   "execution_count": 15,
   "metadata": {},
   "outputs": [],
   "source": [
    "en = ElasticNet()\n",
    "params = {'alpha': list(np.linspace(0.01,0.1,20)), 'l1_ratio':[.2,.4,.6,.8]}"
   ]
  },
  {
   "cell_type": "code",
   "execution_count": 16,
   "metadata": {},
   "outputs": [
    {
     "data": {
      "text/plain": [
       "GridSearchCV(cv=5, error_score='raise-deprecating',\n",
       "             estimator=ElasticNet(alpha=1.0, copy_X=True, fit_intercept=True,\n",
       "                                  l1_ratio=0.5, max_iter=1000, normalize=False,\n",
       "                                  positive=False, precompute=False,\n",
       "                                  random_state=None, selection='cyclic',\n",
       "                                  tol=0.0001, warm_start=False),\n",
       "             iid='warn', n_jobs=None,\n",
       "             param_grid={'alpha': [0.01, 0.01473684210526316,\n",
       "                                   0.019473684210526317, 0.02421...\n",
       "                                   0.04789473684210527, 0.052631578947368425,\n",
       "                                   0.05736842105263158, 0.06210526315789474,\n",
       "                                   0.0668421052631579, 0.07157894736842106,\n",
       "                                   0.07631578947368421, 0.08105263157894736,\n",
       "                                   0.08578947368421053, 0.09052631578947369,\n",
       "                                   0.09526315789473684, 0.1],\n",
       "                         'l1_ratio': [0.2, 0.4, 0.6, 0.8]},\n",
       "             pre_dispatch='2*n_jobs', refit=True, return_train_score=False,\n",
       "             scoring='neg_mean_squared_error', verbose=0)"
      ]
     },
     "execution_count": 16,
     "metadata": {},
     "output_type": "execute_result"
    }
   ],
   "source": [
    "clf_EN = GridSearchCV(en, params, cv = 5, scoring = 'neg_mean_squared_error')\n",
    "clf_EN.fit(X_train, y_train)"
   ]
  },
  {
   "cell_type": "code",
   "execution_count": 17,
   "metadata": {},
   "outputs": [
    {
     "data": {
      "text/plain": [
       "{'alpha': 0.01, 'l1_ratio': 0.2}"
      ]
     },
     "execution_count": 17,
     "metadata": {},
     "output_type": "execute_result"
    }
   ],
   "source": [
    "clf_EN.best_params_"
   ]
  },
  {
   "cell_type": "markdown",
   "metadata": {},
   "source": [
    "When alpha = 0.01, l1_ratio = 0.2, we can have smallest mse among assigned params values."
   ]
  },
  {
   "cell_type": "code",
   "execution_count": 18,
   "metadata": {},
   "outputs": [
    {
     "name": "stdout",
     "output_type": "stream",
     "text": [
      "Root Mean Squared Error: 0.138953851623122\n"
     ]
    }
   ],
   "source": [
    "y_hat_en = clf_EN.predict(X_test)\n",
    "rmse = np.sqrt(mean_squared_error(y_test, y_hat_en))\n",
    "\n",
    "print(\"Root Mean Squared Error: {}\".format(rmse))"
   ]
  }
 ],
 "metadata": {
  "kernelspec": {
   "display_name": "Python 3",
   "language": "python",
   "name": "python3"
  },
  "language_info": {
   "codemirror_mode": {
    "name": "ipython",
    "version": 3
   },
   "file_extension": ".py",
   "mimetype": "text/x-python",
   "name": "python",
   "nbconvert_exporter": "python",
   "pygments_lexer": "ipython3",
   "version": "3.7.3"
  }
 },
 "nbformat": 4,
 "nbformat_minor": 2
}
